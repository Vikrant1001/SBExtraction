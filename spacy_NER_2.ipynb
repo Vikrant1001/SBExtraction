{
  "nbformat": 4,
  "nbformat_minor": 0,
  "metadata": {
    "colab": {
      "name": "spacy_NER_2.ipynb",
      "provenance": []
    },
    "kernelspec": {
      "name": "python3",
      "display_name": "Python 3"
    },
    "language_info": {
      "name": "python"
    }
  },
  "cells": [
    {
      "cell_type": "code",
      "source": [
        "! pip install -U spacy -q"
      ],
      "metadata": {
        "colab": {
          "base_uri": "https://localhost:8080/"
        },
        "id": "rf89CZbRX33t",
        "outputId": "a2330093-4d9b-47c7-f4f8-11bef4110b37"
      },
      "execution_count": null,
      "outputs": [
        {
          "output_type": "stream",
          "name": "stdout",
          "text": [
            "\u001b[K     |████████████████████████████████| 6.0 MB 6.2 MB/s \n",
            "\u001b[K     |████████████████████████████████| 42 kB 1.4 MB/s \n",
            "\u001b[K     |████████████████████████████████| 10.1 MB 19.5 MB/s \n",
            "\u001b[K     |████████████████████████████████| 181 kB 51.1 MB/s \n",
            "\u001b[K     |████████████████████████████████| 653 kB 51.6 MB/s \n",
            "\u001b[K     |████████████████████████████████| 451 kB 53.9 MB/s \n",
            "\u001b[?25h"
          ]
        }
      ]
    },
    {
      "cell_type": "code",
      "source": [
        "!python -m spacy info"
      ],
      "metadata": {
        "colab": {
          "base_uri": "https://localhost:8080/"
        },
        "id": "UM-KDTpdYLWV",
        "outputId": "f1d75988-6a77-47d5-bd46-9fa2f09f715c"
      },
      "execution_count": null,
      "outputs": [
        {
          "output_type": "stream",
          "name": "stdout",
          "text": [
            "\u001b[1m\n",
            "============================== Info about spaCy ==============================\u001b[0m\n",
            "\n",
            "spaCy version    3.2.4                         \n",
            "Location         /usr/local/lib/python3.7/dist-packages/spacy\n",
            "Platform         Linux-5.4.144+-x86_64-with-Ubuntu-18.04-bionic\n",
            "Python version   3.7.13                        \n",
            "Pipelines                                      \n",
            "\n"
          ]
        }
      ]
    },
    {
      "cell_type": "code",
      "source": [
        "import spacy\n",
        "from spacy.tokens import DocBin\n",
        "from tqdm import tqdm\n",
        "\n",
        "nlp = spacy.blank(\"en\")  # load a new spacy model\n",
        "db = DocBin() # create a DocBin object"
      ],
      "metadata": {
        "id": "3D9Z-vJxYWmY"
      },
      "execution_count": null,
      "outputs": []
    },
    {
      "cell_type": "code",
      "source": [
        "import json\n",
        "f = open('train_data.json')\n",
        "TRAIN_DATA = json.load(f)"
      ],
      "metadata": {
        "id": "Pu-ddJLEYefI"
      },
      "execution_count": null,
      "outputs": []
    },
    {
      "cell_type": "code",
      "source": [
        "f = open('test_data.json')\n",
        "TEST_DATA = json.load(f)"
      ],
      "metadata": {
        "id": "ewNCIeSfYoCS"
      },
      "execution_count": null,
      "outputs": []
    },
    {
      "cell_type": "code",
      "source": [
        "\n",
        "for text, annot in tqdm(TRAIN_DATA['annotations']): \n",
        "    doc = nlp.make_doc(text) \n",
        "    ents = []\n",
        "    for start, end, label in annot[\"entities\"]:\n",
        "        span = doc.char_span(start, end, label=label, alignment_mode=\"contract\")\n",
        "        if span is None:\n",
        "            print(\"Skipping entity\")\n",
        "        else:\n",
        "            ents.append(span)\n",
        "    doc.ents = ents \n",
        "    db.add(doc)\n",
        "\n",
        "db.to_disk(\"./training_data.spacy\") "
      ],
      "metadata": {
        "colab": {
          "base_uri": "https://localhost:8080/"
        },
        "id": "iDfnPv_oYp_c",
        "outputId": "f980829f-5bdb-4742-8ac3-691d778c9bcc"
      },
      "execution_count": null,
      "outputs": [
        {
          "output_type": "stream",
          "name": "stderr",
          "text": [
            "100%|██████████| 725/725 [00:00<00:00, 1748.15it/s]"
          ]
        },
        {
          "output_type": "stream",
          "name": "stdout",
          "text": [
            "Skipping entity\n",
            "Skipping entity\n"
          ]
        },
        {
          "output_type": "stream",
          "name": "stderr",
          "text": [
            "\n"
          ]
        }
      ]
    },
    {
      "cell_type": "code",
      "source": [
        "\n",
        "for text, annot in tqdm(TEST_DATA['annotations']): \n",
        "    doc = nlp.make_doc(text) \n",
        "    ents = []\n",
        "    for start, end, label in annot[\"entities\"]:\n",
        "        span = doc.char_span(start, end, label=label, alignment_mode=\"contract\")\n",
        "        if span is None:\n",
        "            print(\"Skipping entity\")\n",
        "        else:\n",
        "            ents.append(span)\n",
        "    doc.ents = ents \n",
        "    db.add(doc)\n",
        "\n",
        "db.to_disk(\"./testing_data.spacy\") "
      ],
      "metadata": {
        "colab": {
          "base_uri": "https://localhost:8080/"
        },
        "id": "kLX60RFAYt3e",
        "outputId": "0f469877-9668-40a3-d672-1879317ac25a"
      },
      "execution_count": null,
      "outputs": [
        {
          "output_type": "stream",
          "name": "stderr",
          "text": [
            "100%|██████████| 560/560 [00:00<00:00, 1829.13it/s]"
          ]
        },
        {
          "output_type": "stream",
          "name": "stdout",
          "text": [
            "Skipping entity\n",
            "Skipping entity\n"
          ]
        },
        {
          "output_type": "stream",
          "name": "stderr",
          "text": [
            "\n"
          ]
        }
      ]
    },
    {
      "cell_type": "code",
      "source": [
        "! python -m spacy init config config.cfg --lang en --pipeline ner --optimize efficiency"
      ],
      "metadata": {
        "colab": {
          "base_uri": "https://localhost:8080/"
        },
        "id": "iM8lTzzHYwo-",
        "outputId": "8d2cfba6-adce-4d2c-9175-fb9734f522a9"
      },
      "execution_count": null,
      "outputs": [
        {
          "output_type": "stream",
          "name": "stdout",
          "text": [
            "\u001b[38;5;3m⚠ To generate a more effective transformer-based config (GPU-only),\n",
            "install the spacy-transformers package and re-run this command. The config\n",
            "generated now does not use transformers.\u001b[0m\n",
            "\u001b[38;5;4mℹ Generated config template specific for your use case\u001b[0m\n",
            "- Language: en\n",
            "- Pipeline: ner\n",
            "- Optimize for: efficiency\n",
            "- Hardware: CPU\n",
            "- Transformer: None\n",
            "\u001b[38;5;2m✔ Auto-filled config with all values\u001b[0m\n",
            "\u001b[38;5;2m✔ Saved config\u001b[0m\n",
            "config.cfg\n",
            "You can now add your data and train your pipeline:\n",
            "python -m spacy train config.cfg --paths.train ./train.spacy --paths.dev ./dev.spacy\n"
          ]
        }
      ]
    },
    {
      "cell_type": "code",
      "source": [
        "! python -m spacy train config.cfg --output ./ --paths.train ./training_data.spacy --paths.dev ./testing_data.spacy"
      ],
      "metadata": {
        "colab": {
          "base_uri": "https://localhost:8080/"
        },
        "id": "U25JMXupY0MW",
        "outputId": "23572294-762b-4cb7-9b62-68e556619c52"
      },
      "execution_count": null,
      "outputs": [
        {
          "output_type": "stream",
          "name": "stdout",
          "text": [
            "\u001b[38;5;4mℹ Saving to output directory: .\u001b[0m\n",
            "\u001b[38;5;4mℹ Using CPU\u001b[0m\n",
            "\u001b[1m\n",
            "=========================== Initializing pipeline ===========================\u001b[0m\n",
            "[2022-03-31 10:04:43,387] [INFO] Set up nlp object from config\n",
            "[2022-03-31 10:04:43,399] [INFO] Pipeline: ['tok2vec', 'ner']\n",
            "[2022-03-31 10:04:43,404] [INFO] Created vocabulary\n",
            "[2022-03-31 10:04:43,406] [INFO] Finished initializing nlp object\n",
            "[2022-03-31 10:04:44,364] [INFO] Initialized pipeline components: ['tok2vec', 'ner']\n",
            "\u001b[38;5;2m✔ Initialized pipeline\u001b[0m\n",
            "\u001b[1m\n",
            "============================= Training pipeline =============================\u001b[0m\n",
            "\u001b[38;5;4mℹ Pipeline: ['tok2vec', 'ner']\u001b[0m\n",
            "\u001b[38;5;4mℹ Initial learn rate: 0.001\u001b[0m\n",
            "E    #       LOSS TOK2VEC  LOSS NER  ENTS_F  ENTS_P  ENTS_R  SCORE \n",
            "---  ------  ------------  --------  ------  ------  ------  ------\n",
            "  0       0          0.00     61.83    0.00    0.00    0.00    0.00\n",
            "  2     200        357.75   2765.68   81.50   82.17   80.83    0.81\n",
            "  5     400        507.54    646.44   85.25   86.12   84.39    0.85\n",
            "  9     600        223.70    535.43   89.47   89.99   88.95    0.89\n",
            " 14     800        252.89    369.88   88.86   89.24   88.49    0.89\n",
            " 20    1000       1093.93    469.89   89.56   89.95   89.18    0.90\n",
            " 27    1200        876.06    538.14   89.30   89.58   89.03    0.89\n",
            " 36    1400       1186.99    544.40   90.75   90.86   90.65    0.91\n",
            " 46    1600       1214.77    607.84   88.88   89.12   88.64    0.89\n",
            " 59    1800       1304.53    551.86   89.80   90.12   89.49    0.90\n",
            " 75    2000       1888.43    795.24   89.10   89.80   88.41    0.89\n",
            " 95    2200       2750.67    952.19   89.57   89.88   89.26    0.90\n",
            "118    2400       3549.03    974.54   88.68   89.27   88.10    0.89\n",
            "143    2600       1189.39    531.89   90.74   90.99   90.49    0.91\n",
            "168    2800       1015.21    634.12   89.96   90.27   89.64    0.90\n",
            "193    3000       1233.82    711.50   89.31   89.52   89.10    0.89\n",
            "\u001b[38;5;2m✔ Saved pipeline to output directory\u001b[0m\n",
            "model-last\n"
          ]
        }
      ]
    },
    {
      "cell_type": "code",
      "source": [
        "nlp_ner = spacy.load(\"/content/model-best\")"
      ],
      "metadata": {
        "id": "Y_LtlzmOY7Yg"
      },
      "execution_count": null,
      "outputs": []
    },
    {
      "cell_type": "code",
      "source": [
        "txt=\"Page 1 of 1\\n[IVW_348205_10.240.85.149_20190827181922]\\n 919732535248 711205\\nYour Details With Us:\\nMRS.MOUMITA GHOSH\\n66,NIBEDITA SARANI,BALLY,BALLY JAGACHHA\\n-\\nHOOGHLY\\nWEST BENGAL - INDIA - 711205\\nYour Base Branch: 25,NEW G.T. ROAD, UTTARPARA,HOOGHLY, WB,UTTARAPARA,712258\\nSummary of Account as on 27-08-2019\\nI. Operative Account in INR\\nType of Account Account Number Balance (INR) MICR IFSC Nomination\\nSavings 098201001774 1,81,449.36 Cr 700229030 ICIC0000982 Registered\\nTOTAL 1,81,449.36 Cr\\nStatement of transactions in Savings account number: 098201001774 in INR For the period 01-06-2019 To 27-08-2019\\nDate Particulars Chq.No. Withdrawals Deposits Autosweep Reverse Balance(INR)\\nSweep\\n01-06-2019 B/F 54,173.36 Cr\\n29-06-2019 098201001774:Int.Pd:31-03-2019 to 28-06-2019 0.00 468.00 54,641.36 Cr\\n26-08-2019 INF/021470087641/opentxn1994926 by SOV 0.00 1,00,000.00 1,54,641.36 Cr\\n26-08-2019 BY CASH-UTTARPARA 0.00 1,00,000.00 2,54,641.36 Cr\\n27-08-2019 NEFT:000072323503/SBIN0003682/SHIULI BANIK 5,000.00 0.00 2,49,641.36 Cr\\n27-08-2019 DD/CC ISSUED-ICICI PRUDENTIAL LIC LTD-SIR R N MUKH 30,000.00 0.00 2,19,641.36 Cr\\n27-08-2019 DD/CC ISSUED-ICICI PRUDENTIAL LIC LTD-SIR R N MUKH 38,192.00 0.00 1,81,449.36 Cr\\nPage Total: 73,192.00 2,00,468.00 0.00 0.00 1,81,449.36 Cr\\nLegends for transactions in your account statement\\nVAT/MAT/NFS - Cash withdrawal at other Bank ATM's INF - Internet fund transfer in linked accounts\\nEBA - Transaction on ICICI direct BIL - Internet Bill payment or funds transfer to Third party\\nVPS/IPS - Debit card transaction\\nTOP - Mobile recharge\\nFor ICICI Bank Limited\\nAuthorised Signatory\\nCategory of service: Banking & Financial Services. Registration No.MIV/ST/Bank & Finc/4.\\nREGD ADDRESS: ICICI BANK TOWER, NEAR CHAKLI CIRCLE,OLD PADRA ROAD ,VADODARA - 390 007, INDIA\\nThis is an authenticated intimation/statement. Customers are requested to immediately notify the Bank of any discrepancy in the statement\""
      ],
      "metadata": {
        "id": "ImcDPtKDanIB"
      },
      "execution_count": null,
      "outputs": []
    },
    {
      "cell_type": "code",
      "source": [
        "doc = nlp_ner(txt)"
      ],
      "metadata": {
        "id": "V3sL56itapcm"
      },
      "execution_count": null,
      "outputs": []
    },
    {
      "cell_type": "code",
      "source": [
        "spacy.displacy.render(doc, style=\"ent\", jupyter=True) #"
      ],
      "metadata": {
        "colab": {
          "base_uri": "https://localhost:8080/",
          "height": 962
        },
        "id": "E-OFfNbXarYn",
        "outputId": "416d485c-ee86-43a3-a000-e8bffbf30f5f"
      },
      "execution_count": null,
      "outputs": [
        {
          "output_type": "display_data",
          "data": {
            "text/plain": [
              "<IPython.core.display.HTML object>"
            ],
            "text/html": [
              "<span class=\"tex2jax_ignore\"><div class=\"entities\" style=\"line-height: 2.5; direction: ltr\">Page 1 of 1</br>[IVW_348205_10.240.85.149_20190827181922]</br> 919732535248 711205</br>\n",
              "<mark class=\"entity\" style=\"background: #ddd; padding: 0.45em 0.6em; margin: 0 0.25em; line-height: 1; border-radius: 0.35em;\">\n",
              "    Your Details With Us\n",
              "    <span style=\"font-size: 0.8em; font-weight: bold; line-height: 1; border-radius: 0.35em; vertical-align: middle; margin-left: 0.5rem\">BASE_BRANCH</span>\n",
              "</mark>\n",
              ":</br>\n",
              "<mark class=\"entity\" style=\"background: #ddd; padding: 0.45em 0.6em; margin: 0 0.25em; line-height: 1; border-radius: 0.35em;\">\n",
              "    MRS.MOUMITA GHOSH\n",
              "66,NIBEDITA SARANI,BALLY,BALLY JAGACHHA\n",
              "-\n",
              "HOOGHLY\n",
              "WEST BENGAL - INDIA - 711205\n",
              "    <span style=\"font-size: 0.8em; font-weight: bold; line-height: 1; border-radius: 0.35em; vertical-align: middle; margin-left: 0.5rem\">NAME</span>\n",
              "</mark>\n",
              "</br>\n",
              "<mark class=\"entity\" style=\"background: #ddd; padding: 0.45em 0.6em; margin: 0 0.25em; line-height: 1; border-radius: 0.35em;\">\n",
              "    Your Base Branch: 25,NEW G.T. ROAD, UTTARPARA,HOOGHLY, WB,UTTARAPARA,712258\n",
              "Summary of Account as on\n",
              "    <span style=\"font-size: 0.8em; font-weight: bold; line-height: 1; border-radius: 0.35em; vertical-align: middle; margin-left: 0.5rem\">BASE_BRANCH</span>\n",
              "</mark>\n",
              " 27-08-2019</br>\n",
              "<mark class=\"entity\" style=\"background: #ddd; padding: 0.45em 0.6em; margin: 0 0.25em; line-height: 1; border-radius: 0.35em;\">\n",
              "    I.\n",
              "    <span style=\"font-size: 0.8em; font-weight: bold; line-height: 1; border-radius: 0.35em; vertical-align: middle; margin-left: 0.5rem\">ACCOUNT_TYPE</span>\n",
              "</mark>\n",
              " Operative Account in INR</br>Type of Account Account Number Balance (INR) MICR IFSC Nomination</br>\n",
              "<mark class=\"entity\" style=\"background: #ddd; padding: 0.45em 0.6em; margin: 0 0.25em; line-height: 1; border-radius: 0.35em;\">\n",
              "    Savings\n",
              "    <span style=\"font-size: 0.8em; font-weight: bold; line-height: 1; border-radius: 0.35em; vertical-align: middle; margin-left: 0.5rem\">ACCOUNT_TYPE</span>\n",
              "</mark>\n",
              " \n",
              "<mark class=\"entity\" style=\"background: #ddd; padding: 0.45em 0.6em; margin: 0 0.25em; line-height: 1; border-radius: 0.35em;\">\n",
              "    098201001774\n",
              "    <span style=\"font-size: 0.8em; font-weight: bold; line-height: 1; border-radius: 0.35em; vertical-align: middle; margin-left: 0.5rem\">ACCOUNT NO</span>\n",
              "</mark>\n",
              " 1,81,449.36 Cr 700229030 \n",
              "<mark class=\"entity\" style=\"background: #ddd; padding: 0.45em 0.6em; margin: 0 0.25em; line-height: 1; border-radius: 0.35em;\">\n",
              "    ICIC0000982\n",
              "    <span style=\"font-size: 0.8em; font-weight: bold; line-height: 1; border-radius: 0.35em; vertical-align: middle; margin-left: 0.5rem\">IFSC</span>\n",
              "</mark>\n",
              " Registered</br>TOTAL 1,81,449.36 Cr</br>Statement of transactions in Savings account number: \n",
              "<mark class=\"entity\" style=\"background: #ddd; padding: 0.45em 0.6em; margin: 0 0.25em; line-height: 1; border-radius: 0.35em;\">\n",
              "    098201001774\n",
              "    <span style=\"font-size: 0.8em; font-weight: bold; line-height: 1; border-radius: 0.35em; vertical-align: middle; margin-left: 0.5rem\">ACCOUNT NO</span>\n",
              "</mark>\n",
              " in INR For the period 01-06-2019 To 27-08-2019</br>Date Particulars Chq.No. Withdrawals Deposits Autosweep Reverse Balance(INR)</br>\n",
              "<mark class=\"entity\" style=\"background: #ddd; padding: 0.45em 0.6em; margin: 0 0.25em; line-height: 1; border-radius: 0.35em;\">\n",
              "    Sweep\n",
              "\n",
              "    <span style=\"font-size: 0.8em; font-weight: bold; line-height: 1; border-radius: 0.35em; vertical-align: middle; margin-left: 0.5rem\">CARD STATEMENT</span>\n",
              "</mark>\n",
              "01-06-2019 \n",
              "<mark class=\"entity\" style=\"background: #ddd; padding: 0.45em 0.6em; margin: 0 0.25em; line-height: 1; border-radius: 0.35em;\">\n",
              "    B/F\n",
              "    <span style=\"font-size: 0.8em; font-weight: bold; line-height: 1; border-radius: 0.35em; vertical-align: middle; margin-left: 0.5rem\">PARTICULARS</span>\n",
              "</mark>\n",
              " 54,173.36 Cr</br>29-06-2019 \n",
              "<mark class=\"entity\" style=\"background: #ddd; padding: 0.45em 0.6em; margin: 0 0.25em; line-height: 1; border-radius: 0.35em;\">\n",
              "    098201001774\n",
              "    <span style=\"font-size: 0.8em; font-weight: bold; line-height: 1; border-radius: 0.35em; vertical-align: middle; margin-left: 0.5rem\">PARTICULARS</span>\n",
              "</mark>\n",
              ":Int.Pd:31-03-2019 to 28-06-2019 0.00 468.00 54,641.36 Cr</br>26-08-2019 \n",
              "<mark class=\"entity\" style=\"background: #ddd; padding: 0.45em 0.6em; margin: 0 0.25em; line-height: 1; border-radius: 0.35em;\">\n",
              "    INF/021470087641/opentxn1994926 by SOV\n",
              "    <span style=\"font-size: 0.8em; font-weight: bold; line-height: 1; border-radius: 0.35em; vertical-align: middle; margin-left: 0.5rem\">PARTICULARS</span>\n",
              "</mark>\n",
              " 0.00 1,00,000.00 1,54,641.36 Cr</br>26-08-2019 \n",
              "<mark class=\"entity\" style=\"background: #ddd; padding: 0.45em 0.6em; margin: 0 0.25em; line-height: 1; border-radius: 0.35em;\">\n",
              "    BY CASH-UTTARPARA\n",
              "    <span style=\"font-size: 0.8em; font-weight: bold; line-height: 1; border-radius: 0.35em; vertical-align: middle; margin-left: 0.5rem\">PARTICULARS</span>\n",
              "</mark>\n",
              " 0.00 1,00,000.00 2,54,641.36 Cr</br>27-08-2019 \n",
              "<mark class=\"entity\" style=\"background: #ddd; padding: 0.45em 0.6em; margin: 0 0.25em; line-height: 1; border-radius: 0.35em;\">\n",
              "    NEFT:000072323503/SBIN0003682/SHIULI BANIK\n",
              "    <span style=\"font-size: 0.8em; font-weight: bold; line-height: 1; border-radius: 0.35em; vertical-align: middle; margin-left: 0.5rem\">PARTICULARS</span>\n",
              "</mark>\n",
              " 5,000.00 0.00 2,49,641.36 Cr</br>27-08-2019 \n",
              "<mark class=\"entity\" style=\"background: #ddd; padding: 0.45em 0.6em; margin: 0 0.25em; line-height: 1; border-radius: 0.35em;\">\n",
              "    DD/CC ISSUED-ICICI PRUDENTIAL LIC LTD-SIR R N MUKH\n",
              "    <span style=\"font-size: 0.8em; font-weight: bold; line-height: 1; border-radius: 0.35em; vertical-align: middle; margin-left: 0.5rem\">PARTICULARS</span>\n",
              "</mark>\n",
              " 30,000.00 0.00 2,19,641.36 Cr</br>27-08-2019 \n",
              "<mark class=\"entity\" style=\"background: #ddd; padding: 0.45em 0.6em; margin: 0 0.25em; line-height: 1; border-radius: 0.35em;\">\n",
              "    DD/CC ISSUED-ICICI PRUDENTIAL LIC LTD-SIR R N MUKH\n",
              "    <span style=\"font-size: 0.8em; font-weight: bold; line-height: 1; border-radius: 0.35em; vertical-align: middle; margin-left: 0.5rem\">PARTICULARS</span>\n",
              "</mark>\n",
              " 38,192.00 0.00 1,81,449.36 Cr</br>Page Total: 73,192.00 2,00,468.00 0.00 0.00 1,81,449.36 Cr</br>Legends for transactions in your account statement</br>\n",
              "<mark class=\"entity\" style=\"background: #ddd; padding: 0.45em 0.6em; margin: 0 0.25em; line-height: 1; border-radius: 0.35em;\">\n",
              "    VAT/MAT/NFS - Cash withdrawal at other Bank ATM's INF - Internet fund transfer in\n",
              "    <span style=\"font-size: 0.8em; font-weight: bold; line-height: 1; border-radius: 0.35em; vertical-align: middle; margin-left: 0.5rem\">PARTICULARS</span>\n",
              "</mark>\n",
              " linked accounts</br>EBA - Transaction on \n",
              "<mark class=\"entity\" style=\"background: #ddd; padding: 0.45em 0.6em; margin: 0 0.25em; line-height: 1; border-radius: 0.35em;\">\n",
              "    ICICI direct\n",
              "    <span style=\"font-size: 0.8em; font-weight: bold; line-height: 1; border-radius: 0.35em; vertical-align: middle; margin-left: 0.5rem\">BANK</span>\n",
              "</mark>\n",
              " \n",
              "<mark class=\"entity\" style=\"background: #ddd; padding: 0.45em 0.6em; margin: 0 0.25em; line-height: 1; border-radius: 0.35em;\">\n",
              "    BIL - Internet Bill payment or funds\n",
              "    <span style=\"font-size: 0.8em; font-weight: bold; line-height: 1; border-radius: 0.35em; vertical-align: middle; margin-left: 0.5rem\">PARTICULARS</span>\n",
              "</mark>\n",
              " transfer to Third party</br>\n",
              "<mark class=\"entity\" style=\"background: #ddd; padding: 0.45em 0.6em; margin: 0 0.25em; line-height: 1; border-radius: 0.35em;\">\n",
              "    VPS/IPS - Debit card transaction\n",
              "TOP - Mobile recharge\n",
              "For ICICI Bank Limited\n",
              "Authorised Signatory\n",
              "Category of service\n",
              "    <span style=\"font-size: 0.8em; font-weight: bold; line-height: 1; border-radius: 0.35em; vertical-align: middle; margin-left: 0.5rem\">PARTICULARS</span>\n",
              "</mark>\n",
              ": Banking &amp; Financial Services. Registration No.MIV/ST/Bank &amp; Finc/4.</br>REGD ADDRESS: \n",
              "<mark class=\"entity\" style=\"background: #ddd; padding: 0.45em 0.6em; margin: 0 0.25em; line-height: 1; border-radius: 0.35em;\">\n",
              "    ICICI BANK\n",
              "    <span style=\"font-size: 0.8em; font-weight: bold; line-height: 1; border-radius: 0.35em; vertical-align: middle; margin-left: 0.5rem\">BANK</span>\n",
              "</mark>\n",
              " TOWER, NEAR CHAKLI CIRCLE,OLD PADRA ROAD ,VADODARA - 390 007, INDIA</br>This is an authenticated intimation/statement. Customers are requested to immediately notify the Bank of any discrepancy in the statement</div></span>"
            ]
          },
          "metadata": {}
        }
      ]
    },
    {
      "cell_type": "code",
      "source": [
        ""
      ],
      "metadata": {
        "id": "CLHNBUusatwm"
      },
      "execution_count": null,
      "outputs": []
    }
  ]
}