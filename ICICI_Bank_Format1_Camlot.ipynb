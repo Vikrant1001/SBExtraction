{
 "cells": [
  {
   "cell_type": "code",
   "execution_count": 1,
   "id": "6e4c0509",
   "metadata": {},
   "outputs": [],
   "source": [
    "import camelot\n",
    "import numpy as np\n",
    "import pandas as pd"
   ]
  },
  {
   "cell_type": "code",
   "execution_count": 132,
   "id": "a56ffe39",
   "metadata": {},
   "outputs": [],
   "source": [
    "file = \"Bank_Statements/icici4bs.pdf\""
   ]
  },
  {
   "cell_type": "code",
   "execution_count": 133,
   "id": "54514755",
   "metadata": {},
   "outputs": [
    {
     "data": {
      "text/plain": [
       "2"
      ]
     },
     "execution_count": 133,
     "metadata": {},
     "output_type": "execute_result"
    }
   ],
   "source": [
    "import pdfplumber\n",
    "\n",
    "with pdfplumber.open(file) as pdf:\n",
    "    \n",
    "    total_pages = pdf.pages\n",
    "total = len(total_pages)\n",
    "total"
   ]
  },
  {
   "cell_type": "code",
   "execution_count": 134,
   "id": "d308c2be",
   "metadata": {},
   "outputs": [],
   "source": [
    "tables = camelot.read_pdf(file,flavor='lattice',pages='1')\n",
    "headers = tables[0].df\n",
    "headers = headers.iloc[0]\n"
   ]
  },
  {
   "cell_type": "code",
   "execution_count": 135,
   "id": "0aaa4341",
   "metadata": {},
   "outputs": [],
   "source": [
    "def processing(data,i):\n",
    "   \n",
    "    if i==1:\n",
    "        \n",
    "        data  = pd.DataFrame(data.values[1:], columns=headers)\n",
    "        data = data.drop(columns=['Chq.No.', 'Autosweep','Reverse\\nSweep'])\n",
    "    else:\n",
    "        data = pd.DataFrame(data.values[:],columns=headers)\n",
    "    data = data.replace(r'^\\s*$', np.nan, regex=True)\n",
    "    data['Deposits'] = data['Deposits'].str.replace(',', '').astype(float)\n",
    "    data['Withdrawals'] = data['Withdrawals'].str.replace(',', '').astype(float)\n",
    "\n",
    "    return data"
   ]
  },
  {
   "cell_type": "code",
   "execution_count": 136,
   "id": "bd3965e0",
   "metadata": {},
   "outputs": [
    {
     "name": "stdout",
     "output_type": "stream",
     "text": [
      "1\n",
      "<TableList n=1>\n",
      "2\n",
      "<TableList n=2>\n"
     ]
    }
   ],
   "source": [
    "df = pd.DataFrame()\n",
    "for i in range(1,total+1):\n",
    "    \n",
    "    print(i)\n",
    "    tables = camelot.read_pdf(file,flavor='lattice',pages=str(i))\n",
    "    print(tables)\n",
    "    if len(tables)!=0:\n",
    "        \n",
    "        df1 = processing(tables[0].df,i)\n",
    "\n",
    "        df = pd.concat([df, df1])\n",
    "df = df.fillna(0)\n",
    "df = df[:-1]"
   ]
  },
  {
   "cell_type": "code",
   "execution_count": 137,
   "id": "49c750b8",
   "metadata": {},
   "outputs": [
    {
     "data": {
      "text/html": [
       "<div>\n",
       "<style scoped>\n",
       "    .dataframe tbody tr th:only-of-type {\n",
       "        vertical-align: middle;\n",
       "    }\n",
       "\n",
       "    .dataframe tbody tr th {\n",
       "        vertical-align: top;\n",
       "    }\n",
       "\n",
       "    .dataframe thead th {\n",
       "        text-align: right;\n",
       "    }\n",
       "</style>\n",
       "<table border=\"1\" class=\"dataframe\">\n",
       "  <thead>\n",
       "    <tr style=\"text-align: right;\">\n",
       "      <th></th>\n",
       "      <th>Date</th>\n",
       "      <th>Particulars</th>\n",
       "      <th>Withdrawals</th>\n",
       "      <th>Deposits</th>\n",
       "      <th>Balance(INR)</th>\n",
       "      <th>Chq.No.</th>\n",
       "      <th>Autosweep</th>\n",
       "      <th>Reverse\\nSweep</th>\n",
       "    </tr>\n",
       "  </thead>\n",
       "  <tbody>\n",
       "    <tr>\n",
       "      <th>0</th>\n",
       "      <td>28-10-2018</td>\n",
       "      <td>B/F</td>\n",
       "      <td>0.0</td>\n",
       "      <td>0.0</td>\n",
       "      <td>1,53,535.16 Cr</td>\n",
       "      <td>0.0</td>\n",
       "      <td>0</td>\n",
       "      <td>0</td>\n",
       "    </tr>\n",
       "    <tr>\n",
       "      <th>1</th>\n",
       "      <td>29-10-2018</td>\n",
       "      <td>ATM/CASH WDL/28-10-18/0</td>\n",
       "      <td>1000.0</td>\n",
       "      <td>0.0</td>\n",
       "      <td>1,52,535.16 Cr</td>\n",
       "      <td>0.0</td>\n",
       "      <td>0</td>\n",
       "      <td>0</td>\n",
       "    </tr>\n",
       "    <tr>\n",
       "      <th>2</th>\n",
       "      <td>30-10-2018</td>\n",
       "      <td>ACH/INFOSYS LIMITED/16784584</td>\n",
       "      <td>0.0</td>\n",
       "      <td>560.0</td>\n",
       "      <td>1,53,095.16 Cr</td>\n",
       "      <td>0.0</td>\n",
       "      <td>0</td>\n",
       "      <td>0</td>\n",
       "    </tr>\n",
       "    <tr>\n",
       "      <th>3</th>\n",
       "      <td>31-10-2018</td>\n",
       "      <td>ATM/CASH WDL/31-10-18/0</td>\n",
       "      <td>900.0</td>\n",
       "      <td>0.0</td>\n",
       "      <td>1,52,195.16 Cr</td>\n",
       "      <td>0.0</td>\n",
       "      <td>0</td>\n",
       "      <td>0</td>\n",
       "    </tr>\n",
       "    <tr>\n",
       "      <th>4</th>\n",
       "      <td>31-10-2018</td>\n",
       "      <td>CMS/ SALARYFOROCT2018/HAPPIEST MINDS\\nTECHNOLO...</td>\n",
       "      <td>0.0</td>\n",
       "      <td>173608.0</td>\n",
       "      <td>3,25,803.16 Cr</td>\n",
       "      <td>0.0</td>\n",
       "      <td>0</td>\n",
       "      <td>0</td>\n",
       "    </tr>\n",
       "    <tr>\n",
       "      <th>...</th>\n",
       "      <td>...</td>\n",
       "      <td>...</td>\n",
       "      <td>...</td>\n",
       "      <td>...</td>\n",
       "      <td>...</td>\n",
       "      <td>...</td>\n",
       "      <td>...</td>\n",
       "      <td>...</td>\n",
       "    </tr>\n",
       "    <tr>\n",
       "      <th>38</th>\n",
       "      <td>23-01-2019</td>\n",
       "      <td>NEFT-KKBK190231144305-HAPPIEST MINDS TECHNOLOGIES</td>\n",
       "      <td>0.0</td>\n",
       "      <td>250722.0</td>\n",
       "      <td>3,55,732.67 Cr</td>\n",
       "      <td>0.0</td>\n",
       "      <td>0</td>\n",
       "      <td>0</td>\n",
       "    </tr>\n",
       "    <tr>\n",
       "      <th>39</th>\n",
       "      <td>24-01-2019</td>\n",
       "      <td>BIL/ONL/001626162073/Equitas Ba/EQUITASETC_PIC...</td>\n",
       "      <td>507.5</td>\n",
       "      <td>0.0</td>\n",
       "      <td>3,55,225.17 Cr</td>\n",
       "      <td>0.0</td>\n",
       "      <td>0</td>\n",
       "      <td>0</td>\n",
       "    </tr>\n",
       "    <tr>\n",
       "      <th>40</th>\n",
       "      <td>24-01-2019</td>\n",
       "      <td>MMT/IMPS/902418413367/SUNDAR RAJ to</td>\n",
       "      <td>500.0</td>\n",
       "      <td>0.0</td>\n",
       "      <td>3,54,725.17 Cr</td>\n",
       "      <td>0.0</td>\n",
       "      <td>0</td>\n",
       "      <td>0</td>\n",
       "    </tr>\n",
       "    <tr>\n",
       "      <th>41</th>\n",
       "      <td>28-01-2019</td>\n",
       "      <td>MPS/SRI SAMPOOR/201901262031/007848/HOSUR</td>\n",
       "      <td>504.0</td>\n",
       "      <td>0.0</td>\n",
       "      <td>3,54,221.17 Cr</td>\n",
       "      <td>0.0</td>\n",
       "      <td>0</td>\n",
       "      <td>0</td>\n",
       "    </tr>\n",
       "    <tr>\n",
       "      <th>42</th>\n",
       "      <td>28-01-2019</td>\n",
       "      <td>ACH/INFOSYS LIMITED/17834951</td>\n",
       "      <td>0.0</td>\n",
       "      <td>320.0</td>\n",
       "      <td>3,54,541.17 Cr</td>\n",
       "      <td>0.0</td>\n",
       "      <td>0</td>\n",
       "      <td>0</td>\n",
       "    </tr>\n",
       "  </tbody>\n",
       "</table>\n",
       "<p>82 rows × 8 columns</p>\n",
       "</div>"
      ],
      "text/plain": [
       "0         Date                                        Particulars  \\\n",
       "0   28-10-2018                                                B/F   \n",
       "1   29-10-2018                            ATM/CASH WDL/28-10-18/0   \n",
       "2   30-10-2018                       ACH/INFOSYS LIMITED/16784584   \n",
       "3   31-10-2018                            ATM/CASH WDL/31-10-18/0   \n",
       "4   31-10-2018  CMS/ SALARYFOROCT2018/HAPPIEST MINDS\\nTECHNOLO...   \n",
       "..         ...                                                ...   \n",
       "38  23-01-2019  NEFT-KKBK190231144305-HAPPIEST MINDS TECHNOLOGIES   \n",
       "39  24-01-2019  BIL/ONL/001626162073/Equitas Ba/EQUITASETC_PIC...   \n",
       "40  24-01-2019                MMT/IMPS/902418413367/SUNDAR RAJ to   \n",
       "41  28-01-2019          MPS/SRI SAMPOOR/201901262031/007848/HOSUR   \n",
       "42  28-01-2019                       ACH/INFOSYS LIMITED/17834951   \n",
       "\n",
       "0   Withdrawals  Deposits    Balance(INR)  Chq.No. Autosweep Reverse\\nSweep  \n",
       "0           0.0       0.0  1,53,535.16 Cr      0.0         0              0  \n",
       "1        1000.0       0.0  1,52,535.16 Cr      0.0         0              0  \n",
       "2           0.0     560.0  1,53,095.16 Cr      0.0         0              0  \n",
       "3         900.0       0.0  1,52,195.16 Cr      0.0         0              0  \n",
       "4           0.0  173608.0  3,25,803.16 Cr      0.0         0              0  \n",
       "..          ...       ...             ...      ...       ...            ...  \n",
       "38          0.0  250722.0  3,55,732.67 Cr      0.0         0              0  \n",
       "39        507.5       0.0  3,55,225.17 Cr      0.0         0              0  \n",
       "40        500.0       0.0  3,54,725.17 Cr      0.0         0              0  \n",
       "41        504.0       0.0  3,54,221.17 Cr      0.0         0              0  \n",
       "42          0.0     320.0  3,54,541.17 Cr      0.0         0              0  \n",
       "\n",
       "[82 rows x 8 columns]"
      ]
     },
     "execution_count": 137,
     "metadata": {},
     "output_type": "execute_result"
    }
   ],
   "source": [
    "df"
   ]
  },
  {
   "cell_type": "code",
   "execution_count": 92,
   "id": "0382bfcb",
   "metadata": {},
   "outputs": [
    {
     "name": "stdout",
     "output_type": "stream",
     "text": [
      "<class 'pandas.core.frame.DataFrame'>\n",
      "Index: 0 entries\n",
      "Empty DataFrame"
     ]
    }
   ],
   "source": [
    "df.info()"
   ]
  },
  {
   "cell_type": "code",
   "execution_count": null,
   "id": "ba920753",
   "metadata": {},
   "outputs": [],
   "source": []
  }
 ],
 "metadata": {
  "kernelspec": {
   "display_name": "Python 3 (ipykernel)",
   "language": "python",
   "name": "python3"
  },
  "language_info": {
   "codemirror_mode": {
    "name": "ipython",
    "version": 3
   },
   "file_extension": ".py",
   "mimetype": "text/x-python",
   "name": "python",
   "nbconvert_exporter": "python",
   "pygments_lexer": "ipython3",
   "version": "3.9.10"
  }
 },
 "nbformat": 4,
 "nbformat_minor": 5
}
